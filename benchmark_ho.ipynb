{
 "cells": [
  {
   "cell_type": "code",
   "execution_count": 1,
   "id": "5d9481ab-0320-4f51-a179-7bb901216f08",
   "metadata": {},
   "outputs": [],
   "source": [
    "import os\n",
    "os.environ['OMP_NUM_THREADS']=\"1\""
   ]
  },
  {
   "cell_type": "code",
   "execution_count": 2,
   "id": "3cebe5ae-0ec5-4521-b4f9-d656d5683100",
   "metadata": {},
   "outputs": [],
   "source": [
    "import os\n",
    "import time\n",
    "import numpy as np\n",
    "import matplotlib.pyplot as plt\n",
    "from firedrake import *\n",
    "from firedrake.pyplot import triplot, plot, quiver\n",
    "from firedrake.cython import dmcommon\n",
    "from firedrake.utils import IntType\n",
    "import ufl\n",
    "import finat\n",
    "import tracemalloc\n",
    "import gc\n",
    "import pyvista as pv"
   ]
  },
  {
   "cell_type": "code",
   "execution_count": 3,
   "id": "e5769ccd-3328-4814-beaa-d610647cde1e",
   "metadata": {},
   "outputs": [],
   "source": [
    "L = 2.50\n",
    "H = 0.41\n",
    "Cx = 0.20  # center of hole: x\n",
    "Cy = 0.20  #                 y\n",
    "r = 0.05\n",
    "s = r / np.sqrt(2)\n",
    "x0 = 0.0\n",
    "x1 = Cx - 2 * s\n",
    "x2 = Cx - 1 * s\n",
    "x3 = Cx + 1 * s\n",
    "x4 = Cx + 2 * s\n",
    "x5 = 0.6\n",
    "x6 = L\n",
    "y0 = 0.0\n",
    "y1 = Cy - 2 * s\n",
    "y2 = Cy - 1 * s\n",
    "y3 = Cy + 1 * s\n",
    "y4 = Cy + 2 * s\n",
    "y5 = H\n",
    "pointA = (0.6, 0.2)\n",
    "pointB = (0.2, 0.2)\n",
    "label_fluid = 1\n",
    "label_struct = 2\n",
    "label_left = 1\n",
    "label_right = 2\n",
    "label_bottom = 3\n",
    "label_top = 4\n",
    "label_cylinder = 5\n",
    "label_interface = 6\n",
    "label_cylinder_left = 11\n",
    "label_cylinder_right = 12\n",
    "label_cylinder_bottom = 13\n",
    "label_cylinder_top = 14\n",
    "label_interface_x = 15\n",
    "label_interface_y = 16\n",
    "label_struct_base = 20"
   ]
  },
  {
   "cell_type": "code",
   "execution_count": 4,
   "id": "f0b21de1-33cc-41ee-a35c-34198395cc56",
   "metadata": {},
   "outputs": [],
   "source": [
    "h = 0.11\n",
    "name = \"mesh_fluid_struct\"\n",
    "nref = 3\n",
    "#                   labels\n",
    "#                      3\n",
    "#    +--------------------------------------+\n",
    "#    |     __ 5                             |\n",
    "#    |  6 /   \\ ____11_____                 |\n",
    "#  4 |   |  12,13__________|10              | 2\n",
    "#    |  7 \\__ /      9                      |\n",
    "#    |        8                             |\n",
    "#    +--------------------------------------+\n",
    "#                      1\n",
    "import netgen\n",
    "from netgen.geom2d import CSG2d, Rectangle, Circle\n",
    "geo = CSG2d()\n",
    "rect0 = Rectangle(pmin=(0, 0), pmax=(L, H))\n",
    "circ0 = Rectangle(pmin=(x2, y2), pmax=(x3, y3))\n",
    "circ1 = Rectangle(pmin=(x1, y1), pmax=(x4, y4))\n",
    "rect1 = Rectangle(pmin=(Cx, 0.19), pmax=(x5, 0.21))\n",
    "fluid_struct = rect0 - circ0\n",
    "fluid = fluid_struct - rect1\n",
    "struct = fluid_struct * rect1\n",
    "geo.Add(fluid * circ1)\n",
    "geo.Add(fluid - fluid * circ1)\n",
    "geo.Add(struct * circ1)\n",
    "geo.Add(struct - struct * circ1)\n",
    "ngmesh = geo.GenerateMesh(maxh=h)\n",
    "mesh = Mesh(ngmesh)\n",
    "### This generates refinements of the original (very coarse) mesh\n",
    "mesh = MeshHierarchy(mesh, nref, netgen_flags={\"degree\": 1})[-1]"
   ]
  },
  {
   "cell_type": "code",
   "execution_count": 5,
   "id": "91425faa-957a-4e37-9988-51938738ec8f",
   "metadata": {},
   "outputs": [
    {
     "data": {
      "text/plain": [
       "<matplotlib.legend.Legend at 0x7f7d24bc3c50>"
      ]
     },
     "execution_count": 5,
     "metadata": {},
     "output_type": "execute_result"
    },
    {
     "name": "stderr",
     "output_type": "stream",
     "text": [
      "/opt/firedrake/ksagiyam_submesh_core/venv/lib64/python3.12/site-packages/IPython/core/events.py:82: UserWarning: Creating legend with loc=\"best\" can be slow with large amounts of data.\n",
      "  func(*args, **kwargs)\n",
      "/opt/firedrake/ksagiyam_submesh_core/venv/lib64/python3.12/site-packages/IPython/core/pylabtools.py:170: UserWarning: Creating legend with loc=\"best\" can be slow with large amounts of data.\n",
      "  fig.canvas.print_figure(bytes_io, **kw)\n"
     ]
    },
    {
     "data": {
      "image/png": "[encoded data removed]",
      "text/plain": [
       "<Figure size 640x480 with 1 Axes>"
      ]
     },
     "metadata": {},
     "output_type": "display_data"
    }
   ],
   "source": [
    "fig, axes = plt.subplots()\n",
    "axes.axis('equal')\n",
    "collection = triplot(mesh, axes=axes)\n",
    "axes.legend()"
   ]
  },
  {
   "cell_type": "code",
   "execution_count": 6,
   "id": "de2cd2e9-7234-4c49-8534-2ad0c438b28a",
   "metadata": {},
   "outputs": [
    {
     "data": {
      "text/plain": [
       "3887"
      ]
     },
     "execution_count": 6,
     "metadata": {},
     "output_type": "execute_result"
    }
   ],
   "source": [
    "mesh.topology_dm.getStratumSize('Cell Sets',1)"
   ]
  },
  {
   "cell_type": "code",
   "execution_count": 7,
   "id": "312be958-0dbc-4da4-a160-f617ba2c9cb8",
   "metadata": {},
   "outputs": [
    {
     "name": "stdout",
     "output_type": "stream",
     "text": [
      "Progress?\n",
      "Progress?\n",
      "Progress?\n",
      "Progress?\n",
      "Progress?\n",
      "Progress?\n",
      "Progress?\n",
      "Progress?\n",
      "Progress?\n",
      "Progress?\n",
      "Progress?\n",
      "Progress?\n",
      "Progress?\n",
      "Progress last?\n"
     ]
    }
   ],
   "source": [
    "x, y = SpatialCoordinate(mesh)\n",
    "V = FunctionSpace(mesh, \"DP\", 0)\n",
    "c0 = Function(V)  # to empty\n",
    "c1 = Function(V).interpolate(conditional(Or(x < x3, x > x5), 1.,\n",
    "                             conditional(Or(y < 0.19, y > 0.21), 1., 0.)))\n",
    "c2 = Function(V).interpolate(conditional(Or(x < x3, x > x5), 0.,\n",
    "                             conditional(Or(y < 0.19, y > 0.21), 0., 1.)))\n",
    "print(\"Progress?\")\n",
    "V = FunctionSpace(mesh, \"HDiv Trace\", 0)\n",
    "f0 = Function(V)  # to empty labels 8, 9, 10, 11, 12, 21\n",
    "f1 = Function(V)\n",
    "DirichletBC(V, 1., (16, )).apply(f1)\n",
    "print(\"Progress?\")\n",
    "f2 = Function(V)\n",
    "DirichletBC(V, 1., (14, )).apply(f2)\n",
    "print(\"Progress?\")\n",
    "f3 = Function(V)\n",
    "DirichletBC(V, 1., (13, )).apply(f3)\n",
    "print(\"Progress?\")\n",
    "f4 = Function(V)\n",
    "DirichletBC(V, 1., (15, )).apply(f4)\n",
    "print(\"Progress?\")\n",
    "f5 = Function(V)\n",
    "DirichletBC(V, 1., (2, 3, 4, 5, 6, 20)).apply(f5)\n",
    "print(\"Progress?\")\n",
    "f6 = Function(V)\n",
    "DirichletBC(V, 1., (1, 7, 17, 18, 19)).apply(f6)\n",
    "print(\"Progress?\")\n",
    "f11 = Function(V)\n",
    "DirichletBC(V, 1., (4, )).apply(f11)\n",
    "print(\"Progress?\")\n",
    "f12 = Function(V)\n",
    "DirichletBC(V, 1., (2, 6, 20)).apply(f12)\n",
    "print(\"Progress?\")\n",
    "f13 = Function(V)\n",
    "DirichletBC(V, 1., (5, )).apply(f13)\n",
    "print(\"Progress?\")\n",
    "f14 = Function(V)\n",
    "DirichletBC(V, 1., (3, )).apply(f14)\n",
    "print(\"Progress?\")\n",
    "f15 = Function(V)\n",
    "DirichletBC(V, 1., (1, 7, 17, 19)).apply(f15)\n",
    "print(\"Progress?\")\n",
    "f16 = Function(V)\n",
    "DirichletBC(V, 1., (18, )).apply(f16)\n",
    "print(\"Progress?\")\n",
    "f20 = Function(V)\n",
    "DirichletBC(V, 1., (20, )).apply(f20)\n",
    "print(\"Progress last?\")\n",
    "mesh2 =  RelabeledMesh(mesh, [c0 for i in range(1, 5)] + ### Zero existing regions\n",
    "                             [c1, c2] +                  ### New functions for new regions\n",
    "                             [f0 for i in range(1, 22)] + ### Zero existing boundaries\n",
    "                             [f1, f2, f3, f4, f5, f6] + [f11, f12, f13, f14, f15, f16, f20], ### New boundary functions\n",
    "                             [i for i in range(1, 5)] + ### Regions to reset to zero\n",
    "                             [label_fluid, label_struct] + ### Regions to redefine\n",
    "                             [i for i in range(1, 22)] + ### Boundaries to reset to zero\n",
    "                             [label_left, label_right, label_bottom, label_top, label_cylinder, label_interface] + [label_cylinder_left, label_cylinder_right, label_cylinder_bottom, label_cylinder_top, label_interface_x, label_interface_y, label_struct_base], ### Boundaries to redefine\n",
    "                       name=name)"
   ]
  },
  {
   "cell_type": "code",
   "execution_count": 8,
   "id": "65cf6b4c-ab95-4c67-aa48-d8a51d8611ed",
   "metadata": {},
   "outputs": [],
   "source": [
    "def _mesh_displacement(V):\n",
    "    f = Function(V)\n",
    "    fx = f.dat.data_with_halos[:, 0]\n",
    "    fy = f.dat.data_with_halos[:, 1]\n",
    "    coordinates = Function(V).interpolate(V.mesh().coordinates)\n",
    "    x = coordinates.dat.data_with_halos[:, 0]\n",
    "    y = coordinates.dat.data_with_halos[:, 1]\n",
    "    eps = 1.e-6\n",
    "    cond = ((x > x1 - eps) & (x < x2 + eps) & (y > y2 - eps) & (y < y3 + eps))\n",
    "    fx[cond] = - (x[cond] - x1) / (x2 - x1) * (np.sqrt(r ** 2 - (y[cond] - Cy) ** 2) - s)\n",
    "    cond = ((x > x3 - eps) & (x < x4 + eps) & (y > y2 - eps) & (y < y3 + eps))\n",
    "    fx[cond] = (x[cond] - x4) / (x3 - x4) * (np.sqrt(r ** 2 - (y[cond] - Cy) ** 2) - s)\n",
    "    cond = ((x > x2 - eps) & (x < x3 + eps) & (y > y1 - eps) & (y < y2 + eps))\n",
    "    fy[cond] = - (y[cond] - y1) / (y2 - y1) * (np.sqrt(r ** 2 - (x[cond] - Cx) ** 2) - s)\n",
    "    cond = ((x > x2 - eps) & (x < x3 + eps) & (y > y3 - eps) & (y < y4 + eps))\n",
    "    fy[cond] = (y[cond] - y4) / (y3 - y4) * (np.sqrt(r ** 2 - (x[cond] - Cx) ** 2) - s)\n",
    "    return f"
   ]
  },
  {
   "cell_type": "code",
   "execution_count": 9,
   "id": "353fc316-8479-4aa8-ba23-b48e5e34c45a",
   "metadata": {},
   "outputs": [],
   "source": [
    "class DirichletBCArgyrisNoSlip(DirichletBC):\n",
    "    def __init__(self, V):\n",
    "        assert isinstance(V.finat_element, finat.Argyris)\n",
    "        assert V.ufl_element().degree() == 5\n",
    "        super().__init__(V, Constant((0., 0.)), None)\n",
    "        plex = V.mesh().topology_dm\n",
    "        sec = V.dm.getLocalSection()\n",
    "        label = plex.getLabel(\"Face Sets\")\n",
    "        nodes = []\n",
    "        for label_value, axis in [(label_left, 'y'),\n",
    "                                  (label_right, 'y'),\n",
    "                                  (label_bottom, 'x'),\n",
    "                                  (label_top, 'x'),\n",
    "                                  (label_cylinder_left, 'y'),\n",
    "                                  (label_cylinder_right, 'y'),\n",
    "                                  (label_cylinder_bottom, 'x'),\n",
    "                                  (label_cylinder_top, 'x')]:\n",
    "            local_dof_ids = {'x': [0, 1, 3],\n",
    "                             'y': [0, 2, 5]}[axis]\n",
    "            label_is_size = label.getStratumSize(label_value)\n",
    "            if label_is_size > 0:\n",
    "                label_is = label.getStratumIS(label_value)\n",
    "                with label_is as points:\n",
    "                    for p in points:\n",
    "                        dof = sec.getDof(p)\n",
    "                        off = sec.getOffset(p)\n",
    "                        if dof == 0:  # cell\n",
    "                            pass\n",
    "                        elif dof == 1:  # facet\n",
    "                            pass\n",
    "                        elif dof == 6:  # vertex\n",
    "                            nodes.extend([off + l for l in local_dof_ids])\n",
    "                        else:\n",
    "                            raise RuntimeError\n",
    "        self.nodes = np.unique(np.array(nodes, dtype=IntType))\n",
    "\n",
    "\n",
    "class DirichletBCEquationBCArgyrisNoSlip(DirichletBC):\n",
    "    def __init__(self, V):\n",
    "        assert isinstance(V.finat_element, finat.Argyris)\n",
    "        assert V.ufl_element().degree() == 5\n",
    "        super().__init__(V, Constant((0., 0.)), None)\n",
    "        plex = V.mesh().topology_dm\n",
    "        sec = V.dm.getLocalSection()\n",
    "        label = plex.getLabel(\"Face Sets\")\n",
    "        nodes = []\n",
    "        label_is_size = label.getStratumSize(label_struct_base)\n",
    "        if label_is_size > 0:\n",
    "            assert label_is_size in [1, 2], \"There are only two vertices at intersection of cylinder and structure\"\n",
    "            label_is = label.getStratumIS(label_struct_base)\n",
    "            with label_is as points:\n",
    "                for p in points:\n",
    "                    dof = sec.getDof(p)\n",
    "                    off = sec.getOffset(p)\n",
    "                    if dof == 0:  # cell\n",
    "                        raise RuntimeError\n",
    "                    elif dof == 1:  # facet\n",
    "                        raise RuntimeError\n",
    "                    elif dof == 6:  # vertex\n",
    "                        nodes.extend([off + 0])\n",
    "                    else:\n",
    "                        raise RuntimeError\n",
    "        self.nodes = np.unique(np.array(nodes, dtype=IntType))\n",
    "\n",
    "\n",
    "class EquationBCArgyrisNoSlip(EquationBC):\n",
    "    def __init__(self, equation, solution, V):\n",
    "        assert isinstance(V.finat_element, finat.Argyris)\n",
    "        assert V.ufl_element().degree() == 5\n",
    "        bbc = DirichletBCEquationBCArgyrisNoSlip(V)\n",
    "        super().__init__(equation, solution, None, bcs=[bbc], V=V)\n",
    "        plex = V.mesh().topology_dm\n",
    "        sec = V.dm.getLocalSection()\n",
    "        label = plex.getLabel(\"Face Sets\")\n",
    "        nodes = []\n",
    "        for label_value, axis in [(label_interface_x, 'x'),\n",
    "                                  (label_interface_y, 'y')]:\n",
    "            local_dof_ids = {'x': [0, 1, 3],\n",
    "                             'y': [0, 2, 5]}[axis]\n",
    "            label_is_size = label.getStratumSize(label_value)\n",
    "            if label_is_size > 0:\n",
    "                label_is = label.getStratumIS(label_value)\n",
    "                with label_is as points:\n",
    "                    for p in points:\n",
    "                        dof = sec.getDof(p)\n",
    "                        off = sec.getOffset(p)\n",
    "                        if dof == 0:  # cell\n",
    "                            pass\n",
    "                        elif dof == 1:  # facet\n",
    "                            pass\n",
    "                        elif dof == 6:  # vertex\n",
    "                            nodes.extend([off + l for l in local_dof_ids])\n",
    "                        else:\n",
    "                            raise RuntimeError(f\"{dof}\")\n",
    "        nodes = np.unique(np.array(nodes, dtype=IntType))\n",
    "        self._F.nodes = nodes\n",
    "        self._J.nodes = nodes\n",
    "        self._Jp.nodes = nodes"
   ]
  },
  {
   "cell_type": "code",
   "execution_count": 10,
   "id": "ea0e09df-ca1f-4e15-9ec6-5ec90a07d287",
   "metadata": {},
   "outputs": [],
   "source": [
    "dim = 2\n",
    "degree = 5\n",
    "nref = 3\n",
    "nquad = 16"
   ]
  },
  {
   "cell_type": "code",
   "execution_count": 11,
   "id": "48228957-1e88-4494-a118-c93fa0a24270",
   "metadata": {},
   "outputs": [
    {
     "data": {
      "text/plain": [
       "<matplotlib.legend.Legend at 0x7f7d1f9c51c0>"
      ]
     },
     "execution_count": 11,
     "metadata": {},
     "output_type": "execute_result"
    },
    {
     "name": "stderr",
     "output_type": "stream",
     "text": [
      "/opt/firedrake/ksagiyam_submesh_core/venv/lib64/python3.12/site-packages/IPython/core/events.py:82: UserWarning: Creating legend with loc=\"best\" can be slow with large amounts of data.\n",
      "  func(*args, **kwargs)\n",
      "/opt/firedrake/ksagiyam_submesh_core/venv/lib64/python3.12/site-packages/IPython/core/pylabtools.py:170: UserWarning: Creating legend with loc=\"best\" can be slow with large amounts of data.\n",
      "  fig.canvas.print_figure(bytes_io, **kw)\n"
     ]
    },
    {
     "data": {
      "image/png": "[encoded data removed]",
      "text/plain": [
       "<Figure size 640x480 with 1 Axes>"
      ]
     },
     "metadata": {},
     "output_type": "display_data"
    }
   ],
   "source": [
    "fig, axes = plt.subplots()\n",
    "axes.axis('equal')\n",
    "collection = triplot(mesh2, axes=axes)\n",
    "axes.legend()"
   ]
  },
  {
   "cell_type": "code",
   "execution_count": 12,
   "id": "a687ab5c-0da6-47be-9abd-4a21882f94f0",
   "metadata": {},
   "outputs": [],
   "source": [
    "mesh_f = Submesh(mesh2, dim, label_fluid, name=\"mesh_fluid\")\n",
    "mesh_s = Submesh(mesh2, dim, label_struct, name=\"mesh_struct\")"
   ]
  },
  {
   "cell_type": "code",
   "execution_count": 13,
   "id": "2fd57407-db5c-40bf-b694-7029ce39bba9",
   "metadata": {},
   "outputs": [
    {
     "data": {
      "text/plain": [
       "<matplotlib.legend.Legend at 0x7f7d1f52aae0>"
      ]
     },
     "execution_count": 13,
     "metadata": {},
     "output_type": "execute_result"
    },
    {
     "data": {
      "image/png": "[encoded data removed]",
      "text/plain": [
       "<Figure size 640x480 with 1 Axes>"
      ]
     },
     "metadata": {},
     "output_type": "display_data"
    }
   ],
   "source": [
    "fig, axes = plt.subplots()\n",
    "axes.axis('equal')\n",
    "collection = triplot(mesh_f, axes=axes)\n",
    "axes.legend()"
   ]
  },
  {
   "cell_type": "code",
   "execution_count": 14,
   "id": "dd02aeac-e586-4e4e-81b5-f3a3ea304886",
   "metadata": {},
   "outputs": [
    {
     "data": {
      "text/plain": [
       "<matplotlib.legend.Legend at 0x7f7d1f2052e0>"
      ]
     },
     "execution_count": 14,
     "metadata": {},
     "output_type": "execute_result"
    },
    {
     "data": {
      "image/png": "[encoded data removed]",
      "text/plain": [
       "<Figure size 640x480 with 1 Axes>"
      ]
     },
     "metadata": {},
     "output_type": "display_data"
    }
   ],
   "source": [
    "fig, axes = plt.subplots()\n",
    "axes.axis('equal')\n",
    "collection = triplot(mesh_s, axes=axes)\n",
    "axes.legend()"
   ]
  },
  {
   "cell_type": "code",
   "execution_count": 15,
   "id": "890b5542-4fe5-4568-a805-b593e7e9af81",
   "metadata": {},
   "outputs": [],
   "source": [
    "VTKFile(\"mesh_ho.pvd\").write(mesh)\n",
    "VTKFile(\"mesh_ho_f.pvd\").write(mesh_f)\n",
    "VTKFile(\"mesh_ho_s.pvd\").write(mesh_s)"
   ]
  },
  {
   "cell_type": "code",
   "execution_count": 16,
   "id": "a1feaf1c-7a0d-4d56-890f-9810c94175a1",
   "metadata": {},
   "outputs": [],
   "source": [
    "x, y = SpatialCoordinate(mesh)\n",
    "x_f, y_f = SpatialCoordinate(mesh_f)\n",
    "x_s, y_s = SpatialCoordinate(mesh_s)\n",
    "n_f = FacetNormal(mesh_f)\n",
    "n_s = FacetNormal(mesh_s)\n",
    "dx = Measure(\"dx\", domain=mesh)\n",
    "dx_f = Measure(\"dx\", domain=mesh_f)\n",
    "dx_s = Measure(\"dx\", domain=mesh_s)\n",
    "ds = Measure(\"ds\", domain=mesh)\n",
    "ds_f = Measure(\"ds\", domain=mesh_f)\n",
    "ds_s = Measure(\"ds\", domain=mesh_s)\n",
    "dS = Measure(\"dS\", domain=mesh)\n",
    "dS_f = Measure(\"dS\", domain=mesh_f)\n",
    "dS_s = Measure(\"dS\", domain=mesh_s)"
   ]
  },
  {
   "cell_type": "code",
   "execution_count": 17,
   "id": "1879dea0-ba84-4403-b94d-39bba110879f",
   "metadata": {},
   "outputs": [],
   "source": [
    "T = 20\n",
    "dt = Constant(0.001)\n",
    "chkstride = int(0.01 / float(dt))  # save every 0.01 sec\n",
    "t = Constant(0.0)\n",
    "CNshift = 1\n",
    "mmt = \"biharmonic\"\n",
    "fname_checkpoint = f\"dumbdata/fsi3_P{degree}_P{degree - 2}_Argyris5_nref{nref}_{float(dt):.3f}_shift{CNshift}_{mmt}_temp\"\n",
    "fname_FD = f\"dumbdata/time_series_FD_P{degree}_P{degree - 2}_Argyris5_nref{nref}_{float(dt):.3f}_shift{CNshift}_{mmt}_temp.dat\"\n",
    "fname_FL = f\"dumbdata/time_series_FL_P{degree}_P{degree - 2}_Argyris5_nref{nref}_{float(dt):.3f}_shift{CNshift}_{mmt}_temp.dat\"\n",
    "fname_ux = f\"dumbdata/time_series_ux_P{degree}_P{degree - 2}_Argyris5_nref{nref}_{float(dt):.3f}_shift{CNshift}_{mmt}_temp.dat\"\n",
    "fname_uy = f\"dumbdata/time_series_uy_P{degree}_P{degree - 2}_Argyris5_nref{nref}_{float(dt):.3f}_shift{CNshift}_{mmt}_temp.dat\"\n",
    "rho_s = 1. * 1.e+3\n",
    "nu_s = 0.4\n",
    "mu_s = 2.0 * 1.e+6\n",
    "rho_f = 1.e+3\n",
    "nu_f = 1.e-3\n",
    "Ubar = 2.0\n",
    "# Re = 200.\n",
    "g_s = Constant(0.0)\n",
    "E_s = mu_s * 2 * (1 + nu_s)\n",
    "lambda_s = nu_s * E_s / (1 + nu_s) / (1 - 2 * nu_s)\n",
    "# ALE constants\n",
    "nu_ale = Constant(float(nu_s))\n",
    "mu_ale = Constant(float(mu_s))\n",
    "E_ale = mu_ale * 2 * (1 + nu_ale)\n",
    "lambda_ale = nu_ale * E_ale / (1 + nu_ale) / (1 - 2 * nu_ale)\n",
    "V_0 = VectorFunctionSpace(mesh_f, \"P\", degree)\n",
    "V_1 = VectorFunctionSpace(mesh_s, \"Argyris\", degree)\n",
    "V_2 = VectorFunctionSpace(mesh_f, \"Argyris\", degree)\n",
    "V_3 = VectorFunctionSpace(mesh_s, \"Argyris\", degree)\n",
    "V_4 = FunctionSpace(mesh_f, \"P\", degree - 2)\n",
    "V = V_0 * V_1 * V_2 * V_3 * V_4\n",
    "solution = Function(V)\n",
    "solution_0 = Function(V)\n",
    "v_f, v_s, u_f, u_s, p = split(solution)\n",
    "v_f_0, v_s_0, u_f_0, u_s_0, p_0 = split(solution_0)\n",
    "dv_f, dv_s, du_f, du_s, dp = split(TestFunction(V))"
   ]
  },
  {
   "cell_type": "code",
   "execution_count": 18,
   "id": "49170b70-bde4-4d47-b8e6-d384bed90ad2",
   "metadata": {},
   "outputs": [],
   "source": [
    "for subf, name in zip(solution.subfunctions, [\"v_f\", \"v_s\", \"u_f\", \"u_s\", \"p\"]):\n",
    "    subf.rename(name)\n",
    "#\n",
    "V_f_m = VectorFunctionSpace(mesh_f, \"P\", degree)\n",
    "u_f_m = _mesh_displacement(V_f_m)\n",
    "V_s_m = VectorFunctionSpace(mesh_s, \"P\", degree)\n",
    "u_s_m = _mesh_displacement(V_s_m)"
   ]
  },
  {
   "cell_type": "code",
   "execution_count": 19,
   "id": "6cef3f7a-1b6a-4720-b102-6e059df9ca57",
   "metadata": {},
   "outputs": [],
   "source": [
    "def compute_elast_tensors(dim, u, lambda_s, mu_s, u_m):\n",
    "    F_m = Identity(dim) + grad(u_m)\n",
    "    J_m = det(F_m)\n",
    "    F = Identity(dim) + dot(grad(u), inv(F_m))\n",
    "    J = det(F)\n",
    "    E = 1. / 2. * (dot(transpose(F), F) - Identity(dim))\n",
    "    S = lambda_s * tr(E) * Identity(dim) + 2.0 * mu_s * E\n",
    "    return F, J, E, S, F_m, J_m\n",
    "theta_p = Constant(1. / 2. + CNshift * float(dt))\n",
    "theta_m = Constant(1. / 2. - CNshift * float(dt))\n",
    "v_f_dot = (v_f - v_f_0) / dt\n",
    "u_f_dot = (u_f - u_f_0) / dt\n",
    "v_s_dot = (v_s - v_s_0) / dt\n",
    "u_s_dot = (u_s - u_s_0) / dt"
   ]
  },
  {
   "cell_type": "code",
   "execution_count": 20,
   "id": "ef06b1e2-3b7e-4d59-8537-7b693d1dd869",
   "metadata": {},
   "outputs": [],
   "source": [
    "def _fluid(v_f, u_f, p, u_f_m):\n",
    "    F_f, J_f, E_f, S_f, F_f_m, J_f_m = compute_elast_tensors(dim, u_f, lambda_ale, mu_ale, u_f_m)\n",
    "    if mmt == \"laplacian\":\n",
    "        mmt_domain_eq = J_f_m * inner(dot(grad(u_f), inv(F_f_m)), dot(grad(du_f), inv(F_f_m)))\n",
    "    elif mmt == \"elast\":\n",
    "        epsilon = sym(dot(grad(u_f), inv(F_f_m)))\n",
    "        sigma = 2 * mu_ale * epsilon + lambda_ale * tr(epsilon) * Identity(dim)\n",
    "        mmt_domain_eq = J_f_m * inner(sigma, dot(grad(du_f), inv(F_f_m)))\n",
    "    elif mmt == \"biharmonic\":\n",
    "        def grad_(u_):\n",
    "            return dot(grad(u_), inv(F_f_m))\n",
    "        def tr3(tensor_):\n",
    "            ii, jj, kk = ufl.indices(3)\n",
    "            part = ufl.classes.ComponentTensor(tensor_[ii, jj, kk], ufl.classes.MultiIndex((jj, kk)))\n",
    "            return ufl.classes.ComponentTensor(tr(part), ufl.classes.MultiIndex((ii, )))\n",
    "        mmt_domain_eq = J_f_m * inner(tr3(grad_(grad_(u_f))), tr3(grad_(grad_(du_f))))\n",
    "    else:\n",
    "        raise NotImplementedError(f\"Unknown mmt : {mmt}\")\n",
    "    return (inner(rho_f * J_f * J_f_m * v_f_dot, dv_f) +\n",
    "            inner(rho_f * J_f * J_f_m * dot(dot(dot(grad(v_f), inv(F_f_m)), inv(F_f)), v_f - u_f_dot), dv_f) +\n",
    "            inner(rho_f * J_f * J_f_m * nu_f * 2 * sym(dot(dot(grad(v_f), inv(F_f_m)), inv(F_f))), dot(dot(grad(dv_f), inv(F_f_m)), inv(F_f))) -\n",
    "            J_f * J_f_m * inner(p, tr(dot(dot(grad(dv_f), inv(F_f_m)), inv(F_f)))) +\n",
    "            J_f * J_f_m * inner(tr(dot(dot(grad(v_f), inv(F_f_m)), inv(F_f))), dp) +\n",
    "            mmt_domain_eq) * dx_f(degree=nquad)\n",
    "def _struct(v_f, u_f, p, v_s, u_s, u_f_m, u_s_m):\n",
    "    F_f, J_f, E_f, S_f, F_f_m, J_f_m = compute_elast_tensors(dim, u_f, lambda_s, mu_s, u_f_m)\n",
    "    F_s, J_s, E_s, S_s, F_s_m, J_s_m = compute_elast_tensors(dim, u_s, lambda_s, mu_s, u_s_m)\n",
    "    return (inner(rho_s * J_s * J_s_m * v_s_dot, dv_s) +\n",
    "            inner(J_s_m * dot(F_s, S_s), dot(grad(dv_s), inv(F_s_m))) -\n",
    "            inner(rho_s * J_s * J_s_m * as_vector([0., - g_s]), dv_s) +\n",
    "            inner(J_s * J_s_m * (u_s_dot - v_s), du_s)) * dx_s(degree=nquad) + \\\n",
    "           inner(dot(- p * Identity(dim) + rho_f * nu_f * 2 * sym(dot(dot(grad(v_f), inv(F_f_m)), inv(F_f))), dot(dot(J_f * transpose(inv(F_f)), J_f_m * transpose(inv(F_f_m))), n_f)), dv_s) * ds_s(label_interface, degree=nquad)\n",
    "residual_f = theta_p * _fluid(v_f, u_f, p, u_f_m) + \\\n",
    "             theta_m * _fluid(v_f_0, u_f_0, p_0, u_f_m)\n",
    "residual_s = theta_p * _struct(v_f, u_f, p, v_s, u_s, u_f_m, u_s_m) + \\\n",
    "             theta_m * _struct(v_f_0, u_f_0, p_0, v_s_0, u_s_0, u_f_m, u_s_m)\n",
    "residual = residual_f + residual_s"
   ]
  },
  {
   "cell_type": "code",
   "execution_count": 21,
   "id": "badd1837-d575-4ab8-897d-c0a7c2ccda63",
   "metadata": {},
   "outputs": [],
   "source": [
    "def v_f_left(t_):\n",
    "    return 1.5 * Ubar * y_f * (H - y_f) / ((H / 2) ** 2) * conditional(t_ < 2.0 + dt / 10., (1 - cos(pi / 2 * t_)) / 2., 1.)"
   ]
  },
  {
   "cell_type": "code",
   "execution_count": 22,
   "id": "8fdd4fee-12a8-4688-853f-ae16d4bcb9bc",
   "metadata": {},
   "outputs": [],
   "source": [
    "bc_v_f_inflow = DirichletBC(V.sub(0), as_vector([theta_p * v_f_left(t - dt + theta_p * dt) +\n",
    "                                                 theta_m * v_f_left(t - dt + theta_m * dt), 0.]), (label_left, ))\n",
    "bc_v_f_zero = DirichletBC(V.sub(0), Constant((0, 0)), (label_bottom, label_top, label_cylinder))\n",
    "bbc_v_f_noslip = DirichletBC(V.sub(0), Constant((0, 0)), ((label_cylinder, label_interface), ))\n",
    "bc_v_f_noslip = EquationBC(inner(v_f - v_s, dv_f) * ds_f(label_interface) == 0, solution, label_interface, bcs=[bbc_v_f_noslip], V=V.sub(0))\n",
    "bc_v_s_zero = DirichletBCArgyrisNoSlip(V.sub(1))\n",
    "bc_u_f_zero = DirichletBCArgyrisNoSlip(V.sub(2))\n",
    "bc_u_f_noslip = EquationBCArgyrisNoSlip(inner(u_f - u_s, du_f) * ds_f(label_interface) == 0, solution, V.sub(2))\n",
    "bc_u_s_zero = DirichletBCArgyrisNoSlip(V.sub(3))"
   ]
  },
  {
   "cell_type": "code",
   "execution_count": 23,
   "id": "83d4158e-4f4b-4e52-aeb5-5fde70ca2c31",
   "metadata": {},
   "outputs": [],
   "source": [
    "solver_parameters = {\n",
    "    \"mat_type\": \"aij\",\n",
    "    \"snes_mat_it\": 1000,\n",
    "    \"snes_rtol\": 1.e-10,\n",
    "    \"snes_atol\": 1.e-10,\n",
    "    \"snes_monitor\": None,\n",
    "    \"ksp_type\": \"preonly\",\n",
    "    \"pc_type\": \"lu\",\n",
    "    \"pc_factor_mat_solver_type\": \"mumps\",\n",
    "}\n",
    "solver_parameters_fieldsplit = {\n",
    "    #'mat_type': 'matfree',\n",
    "    'ksp_type': 'gmres',\n",
    "    'pc_type': 'fieldsplit',\n",
    "    'pc_fieldsplit_type': 'schur',\n",
    "    'fieldsplit_schur_fact_type': 'full',\n",
    "    \"pc_fieldsplit_0_fields\": \"0, 2\",\n",
    "    \"pc_fieldsplit_1_fields\": \"1\",\n",
    "    'fieldsplit_0': {\n",
    "        'ksp_type': 'preonly',\n",
    "        \"pc_type\": \"lu\",\n",
    "        \"pc_factor_mat_solver_type\": \"mumps\"\n",
    "        #'ksp_type': 'gmres',  # equationBC is nonsym\n",
    "        #'pc_type': 'python',\n",
    "        #'pc_python_type': 'firedrake.AssembledPC',\n",
    "        #'assembled_pc_type': 'gamg',\n",
    "        #'assembled_mg_levels_pc_type': 'sor',\n",
    "        #'assembled_mg_levels_pc_sor_diagonal_shift': 1e-100,\n",
    "        #'ksp_rtol': 1e-7,\n",
    "        #'ksp_converged_reason': None,\n",
    "    },\n",
    "    'fieldsplit_1': {\n",
    "        'ksp_type': 'preonly',\n",
    "        \"pc_type\": \"lu\",\n",
    "        \"pc_factor_mat_solver_type\": \"mumps\"\n",
    "        #'ksp_type': 'fgmres',\n",
    "        #'ksp_converged_reason': None,\n",
    "        #'pc_type': 'python',\n",
    "        #'pc_python_type': 'firedrake.MassInvPC',\n",
    "        #'Mp_pc_type': 'ksp',\n",
    "        #'Mp_ksp_ksp_type': 'cg',\n",
    "        #'Mp_ksp_pc_type': 'sor',\n",
    "        #'ksp_rtol': '1e-5',\n",
    "        #'ksp_monitor': None,\n",
    "    },\n",
    "    \"snes_monitor\": None,\n",
    "    'ksp_monitor': None,\n",
    "    'ksp_view': None,\n",
    "}"
   ]
  },
  {
   "cell_type": "code",
   "execution_count": 24,
   "id": "e40675da-f8cf-4a2e-8a95-ee21655640d8",
   "metadata": {},
   "outputs": [],
   "source": [
    "problem = NonlinearVariationalProblem(residual, solution, bcs=[bc_v_f_inflow, bc_v_f_zero, bc_v_f_noslip, bc_u_f_zero, bc_u_f_noslip, bc_v_s_zero, bc_u_s_zero])\n",
    "solver = NonlinearVariationalSolver(problem, solver_parameters=solver_parameters)"
   ]
  },
  {
   "cell_type": "code",
   "execution_count": 25,
   "id": "a70ccc59-f23e-4765-b94b-2f09c92b36c5",
   "metadata": {},
   "outputs": [
    {
     "name": "stdout",
     "output_type": "stream",
     "text": [
      "num cells =  20032\n",
      "num DoFs =  754260\n"
     ]
    }
   ],
   "source": [
    "print(\"num cells = \", mesh.comm.allreduce(mesh.cell_set.size), flush=True)\n",
    "print(\"num DoFs = \", V.dim(), flush=True)"
   ]
  },
  {
   "cell_type": "code",
   "execution_count": 26,
   "id": "c5266c1f-9041-4a78-8e48-46ccae1ddb1b",
   "metadata": {},
   "outputs": [
    {
     "name": "stdout",
     "output_type": "stream",
     "text": [
      "nu_ale = 0.4\n",
      "mu_ale = 2000000.0\n",
      "labmda_ale = 8000000.000000002\n"
     ]
    }
   ],
   "source": [
    "print(f\"nu_ale = {float(nu_ale)}\")\n",
    "print(f\"mu_ale = {float(mu_ale)}\")\n",
    "print(f\"labmda_ale = {float(lambda_ale)}\")"
   ]
  },
  {
   "cell_type": "code",
   "execution_count": 27,
   "id": "f614fe32-0c44-4912-a64b-ad2f45b6c7c2",
   "metadata": {},
   "outputs": [],
   "source": [
    "F_f_, J_f_, _, _, F_f_m_, J_f_m_ = compute_elast_tensors(dim, u_f, lambda_s, mu_s, u_f_m)"
   ]
  },
  {
   "cell_type": "code",
   "execution_count": 28,
   "id": "98f1eb10-5add-434f-8753-08c609783d1e",
   "metadata": {},
   "outputs": [],
   "source": [
    "sigma_f_ = - p * Identity(dim) + rho_f * nu_f * 2 * sym(dot(dot(grad(v_f), inv(F_f_m_)), inv(F_f_)))"
   ]
  },
  {
   "cell_type": "code",
   "execution_count": 29,
   "id": "b91ddb02-dac3-484b-b3fd-357a8ecf1725",
   "metadata": {},
   "outputs": [],
   "source": [
    "iplot = 0\n",
    "if mesh.comm.rank == 0:\n",
    "    with open(fname_FD, 'w') as outfile:\n",
    "         outfile.write(\"t val\" + \"\\n\")\n",
    "    with open(fname_FL, 'w') as outfile:\n",
    "         outfile.write(\"t val\" + \"\\n\")\n",
    "    with open(fname_ux, 'w') as outfile:\n",
    "         outfile.write(\"t val\" + \"\\n\")\n",
    "    with open(fname_uy, 'w') as outfile:\n",
    "         outfile.write(\"t val\" + \"\\n\")"
   ]
  },
  {
   "cell_type": "code",
   "execution_count": 30,
   "id": "c21050c1-f964-4758-8d34-ac22fc31cd66",
   "metadata": {},
   "outputs": [],
   "source": [
    "ii = 0\n",
    "u_3 = Function(VectorFunctionSpace(mesh_s, \"P\", degree))"
   ]
  },
  {
   "cell_type": "code",
   "execution_count": null,
   "id": "27f706eb-4ac4-4212-98e8-69cad3885c0d",
   "metadata": {},
   "outputs": [],
   "source": [
    "while float(t) < T:\n",
    "    t.assign(float(t) + float(dt))\n",
    "    ii += 1\n",
    "    if mesh.comm.rank == 0:\n",
    "        print(f\"Computing solution at time = {float(t)} (dt = {float(dt)}, CNshift={CNshift})\", flush=True)\n",
    "    solver.solve()\n",
    "    for subfunction, subfunction_0 in zip(solution.subfunctions, solution_0.subfunctions):\n",
    "        subfunction_0.assign(subfunction)\n",
    "    # Everything is now up to date.\n",
    "    FD = assemble(-dot(sigma_f_, dot(dot(J_f_ * transpose(inv(F_f_)), J_f_m_ * transpose(inv(F_f_m_))), n_f))[0] * ds_f(subdomain_id=(label_cylinder, label_interface), degree=nquad))\n",
    "    FL = assemble(-dot(sigma_f_, dot(dot(J_f_ * transpose(inv(F_f_)), J_f_m_ * transpose(inv(F_f_m_))), n_f))[1] * ds_f(subdomain_id=(label_cylinder, label_interface), degree=nquad))\n",
    "    u_A = u_3.project(solution.subfunctions[3], solver_parameters={\"ksp_rtol\": 1.e-10}).at(pointA, tolerance=1.e-6)\n",
    "    if mesh.comm.rank == 0:\n",
    "        print(f\"FD     = {FD}\")\n",
    "        print(f\"FL     = {FL}\")\n",
    "        print(f\"uA     = {u_A}\")\n",
    "        if ii % chkstride == 0:c\n",
    "            with open(fname_FD, 'a') as outfile:\n",
    "                outfile.write(f\"{float(t)} {FD}\" + \"\\n\")\n",
    "            with open(fname_FL, 'a') as outfile:\n",
    "                outfile.write(f\"{float(t)} {FL}\" + \"\\n\")\n",
    "            with open(fname_ux, 'a') as outfile:\n",
    "                outfile.write(f\"{float(t)} {u_A[0]}\" + \"\\n\")\n",
    "            with open(fname_uy, 'a') as outfile:\n",
    "                outfile.write(f\"{float(t)} {u_A[1]}\" + \"\\n\")\n",
    "    if ii % chkstride == 0:\n",
    "        iplot += 1\n",
    "        with DumbCheckpoint(fname_checkpoint, mode=FILE_UPDATE) as chk:\n",
    "            chk.set_timestep(float(t), iplot)\n",
    "            for subsolution in solution.subfunctions:\n",
    "                chk.store(subsolution)\n",
    "    gc.collect()"
   ]
  },
  {
   "cell_type": "code",
   "execution_count": 33,
   "id": "a0dd169b-9550-4c55-bf2a-048e14cb52ea",
   "metadata": {},
   "outputs": [
    {
     "data": {
      "text/plain": [
       "(Coefficient(WithGeometry(IndexedProxyFunctionSpace(<firedrake.mesh.MeshTopology object at 0x7f7d1f2042f0>, VectorElement(FiniteElement('Lagrange', triangle, 5), dim=2), name=None, index=0, component=None), Mesh(VectorElement(FiniteElement('Lagrange', triangle, 1), dim=2), 29)), 88),\n",
       " Coefficient(WithGeometry(IndexedProxyFunctionSpace(<firedrake.mesh.MeshTopology object at 0x7f7d1f59e090>, VectorElement(FiniteElement('Argyris', triangle, 5), dim=2), name=None, index=1, component=None), Mesh(VectorElement(FiniteElement('Lagrange', triangle, 1), dim=2), 31)), 89),\n",
       " Coefficient(WithGeometry(IndexedProxyFunctionSpace(<firedrake.mesh.MeshTopology object at 0x7f7d1f2042f0>, VectorElement(FiniteElement('Argyris', triangle, 5), dim=2), name=None, index=2, component=None), Mesh(VectorElement(FiniteElement('Lagrange', triangle, 1), dim=2), 29)), 90),\n",
       " Coefficient(WithGeometry(IndexedProxyFunctionSpace(<firedrake.mesh.MeshTopology object at 0x7f7d1f59e090>, VectorElement(FiniteElement('Argyris', triangle, 5), dim=2), name=None, index=3, component=None), Mesh(VectorElement(FiniteElement('Lagrange', triangle, 1), dim=2), 31)), 91),\n",
       " Coefficient(WithGeometry(IndexedProxyFunctionSpace(<firedrake.mesh.MeshTopology object at 0x7f7d1f2042f0>, FiniteElement('Lagrange', triangle, 3), name=None, index=4, component=None), Mesh(VectorElement(FiniteElement('Lagrange', triangle, 1), dim=2), 29)), 92))"
      ]
     },
     "execution_count": 33,
     "metadata": {},
     "output_type": "execute_result"
    }
   ],
   "source": [
    "solution.subfunctions"
   ]
  },
  {
   "cell_type": "code",
   "execution_count": 41,
   "id": "2130221f-36c3-4908-afb8-17db4e5ce53a",
   "metadata": {},
   "outputs": [
    {
     "data": {
      "image/png": "[encoded data removed]",
      "text/plain": [
       "<Figure size 640x480 with 2 Axes>"
      ]
     },
     "metadata": {},
     "output_type": "display_data"
    }
   ],
   "source": [
    "fig, axes = plt.subplots()\n",
    "collection = tripcolor(solution.sub(4), axes=axes, cmap='coolwarm')\n",
    "fig.colorbar(collection);"
   ]
  },
  {
   "cell_type": "code",
   "execution_count": 43,
   "id": "3b990c4b-6380-4d7a-ab9f-dcdbbee89fb2",
   "metadata": {},
   "outputs": [
    {
     "data": {
      "text/plain": [
       "6"
      ]
     },
     "execution_count": 43,
     "metadata": {},
     "output_type": "execute_result"
    }
   ],
   "source": [
    "label_interface"
   ]
  },
  {
   "cell_type": "code",
   "execution_count": 45,
   "id": "f71ae5d3-e1ad-48ba-93b1-4beebd649d20",
   "metadata": {},
   "outputs": [
    {
     "data": {
      "text/plain": [
       "<matplotlib.legend.Legend at 0x7f7cd6b56f60>"
      ]
     },
     "execution_count": 45,
     "metadata": {},
     "output_type": "execute_result"
    },
    {
     "name": "stderr",
     "output_type": "stream",
     "text": [
      "/opt/firedrake/ksagiyam_submesh_core/venv/lib64/python3.12/site-packages/IPython/core/events.py:82: UserWarning: Creating legend with loc=\"best\" can be slow with large amounts of data.\n",
      "  func(*args, **kwargs)\n",
      "/opt/firedrake/ksagiyam_submesh_core/venv/lib64/python3.12/site-packages/IPython/core/pylabtools.py:170: UserWarning: Creating legend with loc=\"best\" can be slow with large amounts of data.\n",
      "  fig.canvas.print_figure(bytes_io, **kw)\n"
     ]
    },
    {
     "data": {
      "image/png": "[encoded data removed]",
      "text/plain": [
       "<Figure size 640x480 with 1 Axes>"
      ]
     },
     "metadata": {},
     "output_type": "display_data"
    }
   ],
   "source": [
    "fig, axes = plt.subplots()\n",
    "axes.axis('equal')\n",
    "collection = triplot(mesh_f, axes=axes)\n",
    "axes.legend()"
   ]
  },
  {
   "cell_type": "code",
   "execution_count": null,
   "id": "6bb51028-7a63-42c0-a12b-baac8b1f045f",
   "metadata": {},
   "outputs": [],
   "source": []
  }
 ],
 "metadata": {
  "kernelspec": {
   "display_name": "Python 3 (ipykernel)",
   "language": "python",
   "name": "python3"
  },
  "language_info": {
   "codemirror_mode": {
    "name": "ipython",
    "version": 3
   },
   "file_extension": ".py",
   "mimetype": "text/x-python",
   "name": "python",
   "nbconvert_exporter": "python",
   "pygments_lexer": "ipython3",
   "version": "3.12.5"
  }
 },
 "nbformat": 4,
 "nbformat_minor": 5
}
